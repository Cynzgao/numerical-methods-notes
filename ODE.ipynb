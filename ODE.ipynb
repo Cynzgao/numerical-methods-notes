{
 "cells": [
  {
   "cell_type": "code",
   "execution_count": 1,
   "metadata": {},
   "outputs": [],
   "source": [
    "from __future__ import print_function\n",
    "\n",
    "%matplotlib inline\n",
    "import numpy\n",
    "import matplotlib.pyplot as plt\n",
    "import warnings\n",
    "import sympy\n",
    "sympy.init_printing()"
   ]
  },
  {
   "cell_type": "markdown",
   "metadata": {},
   "source": [
    "notes for intro to numerical methods\n",
    "\n",
    "reference: https://github.com/mandli/intro-numerical-methods"
   ]
  },
  {
   "cell_type": "markdown",
   "metadata": {},
   "source": [
    "# ODE Initial Value Problems\n",
    "\n",
    "Problem statement:\n",
    "\n",
    "$$\n",
    "  \\frac{du}{dt} = f(t, u) ~~~u(0) = u_0\n",
    "$$\n",
    "\n",
    "We know the initial value of the vector $u$ and its derivative with respect to $t$. "
   ]
  },
  {
   "cell_type": "markdown",
   "metadata": {},
   "source": [
    "### discretization\n",
    "We can approximate the derivative numerically, ie.\n",
    "\n",
    "$$\\frac{u(t + \\Delta t) - u(t)}{\\Delta t} = f(t, u).$$\n",
    "\n",
    "\n",
    "\n",
    "## forward scheme:\n",
    "Let $U_n$ be the approximated value of $u(t + \\Delta t)$ at $n$-th time steps, the forward Euler method can be written as \n",
    "$$\n",
    "\\frac{U_{n+1} - U_{n}}{\\Delta t} = f(t_n, U_n),\n",
    "$$\n",
    "or\n",
    "$$U_{n+1} = U_{n} + \\Delta t f(t_n, U_n).$$\n",
    "\n",
    "Foward Euler is a first order accurate and consistent method. It's truncation error, difference between true solution and numerically approximated solution, can be calculated using the Taylor expansion of $u(t)$ centered at $t_n$ and evaluated at $t_{n+1}$. \n",
    "\n",
    "\n",
    "## central scheme:\n",
    "Alternatively, we could use the second order central difference then take the integral. The leap-frog method is \n",
    "$$\n",
    "\\frac{U_{n+1} - U_{n-1}}{2\\Delta t} = f(t_n, U_n).\n",
    "$$\n",
    "\n",
    "Following a similar analysis, the leap-frog method is second order accurate and we need to use a higher order of Taylor series. \n",
    "\n",
    "## backward scheme:\n",
    "Similar to forward Euler method, backward Euler is an implicit method that evaluates the function at a later time. It can be written as\n",
    "$$\n",
    "U_{n+1} = U_{n} + \\Delta t f(t_{n+1}, U_{n+1}).\n",
    "$$\n",
    "\n",
    "\n",
    "## trapezoidal:\n",
    "Based on the trapezoidal rule, we have another scheme\n",
    "$$\n",
    "\\frac{U_{n+1} - U_{n}}{\\Delta t} = \\frac 1 2 (f(U_n) - f(U_{n+1}))\n",
    "$$"
   ]
  },
  {
   "cell_type": "code",
   "execution_count": 5,
   "metadata": {},
   "outputs": [
    {
     "data": {
      "image/png": "[encoded data removed]",
      "text/plain": [
       "<Figure size 432x288 with 1 Axes>"
      ]
     },
     "metadata": {
      "needs_background": "light"
     },
     "output_type": "display_data"
    }
   ],
   "source": [
    "## u' = -u\n",
    "## true solution is u = e^(-t)\n",
    "f = lambda t, u: -u\n",
    "u_exact = lambda t: numpy.exp(-t)\n",
    "u_0 = 1.0\n",
    "\n",
    "t_f = 10.0\n",
    "num_steps = [2**n for n in range(4,10)]\n",
    "delta_t = numpy.empty(len(num_steps))\n",
    "error_euler = numpy.empty(len(num_steps))\n",
    "error_trap = numpy.empty(len(num_steps))\n",
    "error_leapfrog = numpy.empty(len(num_steps))\n",
    "\n",
    "for (i, N) in enumerate(num_steps):\n",
    "    t = numpy.linspace(0, t_f, N)\n",
    "    delta_t[i] = t[1] - t[0]\n",
    "    \n",
    "    # Compute Euler solution\n",
    "    u_euler = numpy.empty(t.shape)\n",
    "    u_euler[0] = u_0\n",
    "    for n in range(t.shape[0] - 1):\n",
    "        u_euler[n+1] = u_euler[n] + delta_t[i] * f(t[n], u_euler[n])\n",
    "        \n",
    "    # Compute trapezoidal\n",
    "    u_trap = numpy.empty(t.shape)\n",
    "    u_trap[0] = u_0\n",
    "    integration_constant = (1.0 - delta_t[i] / 2.0) / (1.0 + delta_t[i] / 2.0)\n",
    "    for n in range(t.shape[0] - 1):\n",
    "        u_trap[n + 1] = u_trap[n] * integration_constant\n",
    "        \n",
    "    # Compute Leap-Frog\n",
    "    u_leapfrog = numpy.empty(t.shape)\n",
    "    u_leapfrog[0] = 1.0\n",
    "    u_leapfrog[1] = u_euler[1]\n",
    "    for n in range(1, t.shape[0] - 1):\n",
    "        u_leapfrog[n+1] = u_leapfrog[n-1] + 2.0 * delta_t[i] * f(t[n], u_leapfrog[n])\n",
    "        \n",
    "    # Compute error for each\n",
    "    error_euler[i] = numpy.linalg.norm(delta_t[i] * (u_euler - u_exact(t)), ord=1)\n",
    "    error_trap[i] = numpy.linalg.norm(delta_t[i] * (u_trap - u_exact(t)), ord=1)\n",
    "    error_leapfrog[i] = numpy.linalg.norm(delta_t[i] * (u_leapfrog - u_exact(t)), ord=1)\n",
    "    \n",
    "# Plot error vs. delta_t\n",
    "fig = plt.figure()\n",
    "axes = fig.add_subplot(1, 1, 1)\n",
    "\n",
    "order_C = lambda delta_x, error, order: numpy.exp(numpy.log(error) - order * numpy.log(delta_x))\n",
    "axes.loglog(delta_t, error_euler, 'bo', label='Forward Euler')\n",
    "axes.loglog(delta_t, error_trap, 'ro', label='Trapezoidal')\n",
    "axes.loglog(delta_t, error_leapfrog, 'go', label=\"Leap-Frog\")\n",
    "\n",
    "## plot second order and first order convergence\n",
    "axes.loglog(delta_t, order_C(delta_t[2], error_euler[2], 1.0) * delta_t**1.0, '--b')\n",
    "axes.loglog(delta_t, order_C(delta_t[2], error_trap[2], 2.0) * delta_t**2.0, '--r')\n",
    "axes.loglog(delta_t, order_C(delta_t[2], error_leapfrog[2], 2.0) * delta_t**2.0, '--r')\n",
    "\n",
    "axes.legend(loc=2)\n",
    "axes.set_title(\"Comparison of Errors\")\n",
    "axes.set_xlabel(\"$\\Delta t$\")\n",
    "axes.set_ylabel(\"$|U(t_f) - u(t_f)|$\")\n",
    "\n",
    "plt.show()"
   ]
  },
  {
   "cell_type": "markdown",
   "metadata": {},
   "source": [
    "## Taylor Series Method:\n",
    "\n",
    "For general taylor expansion we have\n",
    "$$\n",
    "u(t_{n+1}) = u(t_n) + \\Delta t u'(t_n) + \\frac{\\Delta t^2}{2} u''(t_n) + \\frac{\\Delta t^3}{6}u'''(t_n) + \\cdots.\n",
    "$$\n",
    "We can replace the dirivatives of $u$ with the derivatives of $f$ based on the original ODE. Since the order of $f$ will be one less than the order of $u$, the method can be rewritten as\n",
    "$$\n",
    "u(t_{n+1}) = u(t_n) + \\Delta t f(t_n, u(t_n)) + \\frac{\\Delta t^2}{2} f'(t_n, u(t_n)) + \\frac{\\Delta t^3}{6}f''(t_n, u(t_n)) + \\cdots\n",
    "$$\n",
    "\n",
    "### 2nd Order Taylor Series Methods:\n",
    "\n",
    "For example, if we want a second order method, we need to differentiate $f$ once again,\n",
    "$$\n",
    "U_{n+1} = U_n + \\Delta t f(t_n, U_n) + \\frac{\\Delta t^2}{2} f'(t_n, U_n).\n",
    "$$"
   ]
  },
  {
   "cell_type": "markdown",
   "metadata": {},
   "source": [
    "## Runge-Kutta Methods:\n",
    "\n",
    "The order of accuracy can be increased by adding intermediate stages in the schemes. Evaluating at $t_n + \\Delta t/2$ will give a second order Runge-Kutta method. \n",
    "\n",
    "### 2nd Order Runge-Kutta:\n",
    "$$\n",
    "\\begin{align}\n",
    "U^* &= U^n + \\frac 1 2 \\Delta t f(U^n)\\\\\n",
    "U^{n+1} &= U^n + \\Delta t f(U^*)\\\\\n",
    "        &= U^n + \\Delta t (U^n + \\frac 1 2 \\Delta t f(U^n))\n",
    "\\end{align}\n",
    "$$\n",
    "\n",
    "### 4th Order Runge-Kutta:\n",
    "$$\n",
    "\\begin{align}\n",
    "Y_1 &= U_n\\\\\n",
    "Y_2 &= U_n + \\frac 1 2 \\Delta t f(Y_1, t_n)\\\\\n",
    "Y_3 &= U_n + \\frac 1 2 \\Delta t f(Y_2, t_n + \\Delta t/2)\\\\\n",
    "Y_4 &= U_n + \\Delta t f(Y_3, t_n + \\Delta t/2)\\\\\n",
    "U_{n+1} &= U_n = \\frac{\\Delta t}{6}[f(Y_1, t_n) + 2 f(Y_2, t_n + \\Delta t/2) + 2 f(Y_3, t_n + \\Delta t/2) + f(Y_4, t_n + \\Delta t)]\n",
    "\\end{align}\n",
    "$$"
   ]
  },
  {
   "cell_type": "code",
   "execution_count": 6,
   "metadata": {},
   "outputs": [
    {
     "data": {
      "image/png": "[encoded data removed]",
      "text/plain": [
       "<Figure size 432x288 with 1 Axes>"
      ]
     },
     "metadata": {
      "needs_background": "light"
     },
     "output_type": "display_data"
    }
   ],
   "source": [
    "f = lambda t, u: -u\n",
    "\n",
    "t_exact = numpy.linspace(0.0, 10.0, 100)\n",
    "u_exact = numpy.exp(-t_exact)\n",
    "\n",
    "N = 10\n",
    "t = numpy.linspace(0, 10.0, N)\n",
    "delta_t = t[1] - t[0]\n",
    "u_2 = numpy.empty(t.shape)\n",
    "u_4 = numpy.empty(t.shape)\n",
    "u_2[0] = 1.0\n",
    "u_4[0] = 1.0\n",
    "\n",
    "for (n, t_n) in enumerate(t[1:]):\n",
    "    u_2[n+1] = u_2[n] + 0.5 * delta_t * f(t_n, u_2[n])\n",
    "    u_2[n+1] = u_2[n] + delta_t * f(t_n, u_2[n+1])\n",
    "    y_1 = u_4[n]\n",
    "    y_2 = u_4[n] + 0.5 * delta_t * f(t_n, y_1)\n",
    "    y_3 = u_4[n] + 0.5 * delta_t * f(t_n + 0.5 * delta_t, y_2)\n",
    "    y_4 = u_4[n] + delta_t * f(t_n + 0.5 * delta_t, y_3)\n",
    "    u_4[n+1] = u_4[n] + delta_t / 6.0 * (f(t_n, y_1) + 2.0 * f(t_n + 0.5 * delta_t, y_2) + 2.0 * f(t_n + 0.5 * delta_t, y_3) + f(t_n + delta_t, y_4))\n",
    "    \n",
    "fig = plt.figure()\n",
    "axes = fig.add_subplot(1, 1, 1)\n",
    "\n",
    "axes.plot(t_exact, u_exact, 'k', label=\"True\")\n",
    "axes.plot(t, u_2, 'ro', label=\"2-Stage\")\n",
    "axes.plot(t, u_4, 'bo', label=\"4-Stage\")\n",
    "axes.legend(loc=1)\n",
    "\n",
    "plt.show()"
   ]
  },
  {
   "cell_type": "markdown",
   "metadata": {},
   "source": [
    "## Linear Multi-Step Methods\n",
    "\n",
    "We could use multiple time steps to evaluate the approximation; it is easier to implement than Taylor series expansion and it does not need to evaluate the function multiple times as higher order one-step methods do. However, the method is not self-starting. \n",
    "\n",
    "### General Linear Multi-Step\n",
    "The method can be written as a linear combination of other solutions:\n",
    "$$\n",
    "\\sum^r_{j=0} \\alpha_j U_{n+j} = \\Delta t \\sum^r_{j=0}\\beta_j f(U_{n+j}, t_{n+j}).\n",
    "$$\n",
    "\n",
    "The method is implicit if $\\beta_r=0$, which means that it only requires previous timestep. \n",
    "\n",
    "### Adams Methods\n",
    "\n",
    "$$\n",
    "U_{n+r} = U_{n+r-1} + \\Delta t \\sum^r_{j=0}\\beta_j U_{n+j}.\n",
    "$$\n",
    "\n",
    "### Adams-Bashforth\n",
    "Adams-Bashforth are explicit methods that maximizes the order of accuracy using the coefficients that will eliminate as many terms in the Taylor expansion as possible. Below are four steps Adams-Bashforth methods; we could use a two step Runge-Kutta to start the method if we would like to use two step AB.\n",
    "$$\n",
    "\\begin{align}\n",
    "U_{n+1} &= U_n + \\Delta t f(U_n)\\\\\n",
    "U_{n+2} &= U_{n+1} + \\frac{\\Delta t}{2}(-f(U_n) + 3f(U_{n+1}))\\\\\n",
    "U_{n+3} &= U_{n+2} + \\frac{\\Delta t}{12}(5f(U_n) - 16f(U_{n+1}) + 23 f(U_{n+2}))\\\\\n",
    "U_{n+4} &= U_{n+3} + \\frac{\\Delta t}{24}(-9f(U_n) + 37f(U_{n+1}) - 59f(U_{n+2}) + 55f(U_{n+3}))\n",
    "\\end{align}\n",
    "$$\n",
    "\n",
    "### Adams-Moulton \n",
    "Adams-Moulton ethods are implicit solvers of Adams-Bashforth methods:\n",
    "$$\n",
    "\\begin{align}\n",
    "U_{n+1} &= U_{n} + \\frac{\\Delta t}{2}(f(U_n) + f(U_{n+1}))\\\\\n",
    "U_{n+2} &= U_{n+1} + \\frac{\\Delta t}{12}(-f(U_n) + 8f(U_{n+1}) + 5 f(U_{n+2}))\\\\\n",
    "U_{n+3} &= U_{n+2} + \\frac{\\Delta t}{24}(f(U_n) -5 f(U_{n+1}) + 19f(U_{n+2}) + 9f(U_{n+3}))\\\\\n",
    "U_{n+4} &= U_{n+3} + \\frac{\\Delta t}{720}(-19f(U_n) + 106 f(U_{n+1}) - 264 f(U_{n+2}) + 646f(U_{n+3}) + 251f(U_{n+4}))\n",
    "\\end{align}\n",
    "$$\n",
    "\n"
   ]
  },
  {
   "cell_type": "markdown",
   "metadata": {},
   "source": [
    "## Predictor-Corrector Methods\n",
    "\n",
    "We can estimate the implicit function with the explicit method to skip the implicit evaluations in the Adams-Moulton methods.\n",
    "\n",
    "### One-Step Adams-Bashforth-Moulton \n",
    "The updating scheme of using AB to predict the value of $U_{n+1}$ then using AM to correct is expressed as \n",
    "$$\n",
    "\\begin{align}\n",
    "\\hat{U}_{n+1} &= U_n + \\Delta t f(U_n)\\\\\n",
    "U_{n+1} &= U_n + \\frac 1 2 \\Delta t (f(U_n) + f(\\hat{U}_{n+1}))\n",
    "\\end{align}\n",
    "$$"
   ]
  },
  {
   "cell_type": "code",
   "execution_count": null,
   "metadata": {},
   "outputs": [],
   "source": []
  },
  {
   "cell_type": "code",
   "execution_count": null,
   "metadata": {},
   "outputs": [],
   "source": []
  },
  {
   "cell_type": "code",
   "execution_count": null,
   "metadata": {},
   "outputs": [],
   "source": []
  },
  {
   "cell_type": "code",
   "execution_count": null,
   "metadata": {},
   "outputs": [],
   "source": []
  }
 ],
 "metadata": {
  "kernelspec": {
   "display_name": "Python 3",
   "language": "python",
   "name": "python3"
  },
  "language_info": {
   "codemirror_mode": {
    "name": "ipython",
    "version": 3
   },
   "file_extension": ".py",
   "mimetype": "text/x-python",
   "name": "python",
   "nbconvert_exporter": "python",
   "pygments_lexer": "ipython3",
   "version": "3.7.1"
  }
 },
 "nbformat": 4,
 "nbformat_minor": 2
}
